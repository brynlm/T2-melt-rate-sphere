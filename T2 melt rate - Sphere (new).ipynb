{
 "cells": [
  {
   "cell_type": "code",
   "execution_count": 1,
   "metadata": {},
   "outputs": [],
   "source": [
    "from numpy import* \n",
    "from sympy import*\n",
    "from math import*\n",
    "import matplotlib.pyplot as plt\n",
    "import csv"
   ]
  },
  {
   "cell_type": "code",
   "execution_count": 2,
   "metadata": {
    "scrolled": true
   },
   "outputs": [
    {
     "name": "stdout",
     "output_type": "stream",
     "text": [
      "initial mass =  10.11 g\n",
      "dQ =  0.002740462003280592 J\n",
      "A =  0.000689586699208846 m^2\n",
      "Mn =  2.159437362334293 g\n",
      "dM =  8.214814158514963e-06 g\n",
      "Rn =  0.007407804393661858 m\n",
      "sum of dM =  7.950562637665744 g\n",
      "time =  5538.000000074594 s\n",
      "n =  523300\n",
      "kc =  10.732271522053143 W/m^2*K\n",
      "10.110000000000037\n",
      "Ra =  6691.343000517747\n"
     ]
    },
    {
     "data": {
      "text/plain": [
       "<matplotlib.legend.Legend at 0x7fb68c29af50>"
      ]
     },
     "execution_count": 2,
     "metadata": {},
     "output_type": "execute_result"
    },
    {
     "name": "stderr",
     "output_type": "stream",
     "text": [
      "/Users/brynleemeyer/opt/anaconda3/lib/python3.7/site-packages/IPython/core/pylabtools.py:132: UserWarning: Creating legend with loc=\"best\" can be slow with large amounts of data.\n",
      "  fig.canvas.print_figure(bytes_io, **kw)\n"
     ]
    },
    {
     "data": {
      "image/png": "[encoded data removed]",
      "text/plain": [
       "<Figure size 432x288 with 1 Axes>"
      ]
     },
     "metadata": {
      "needs_background": "light"
     },
     "output_type": "display_data"
    }
   ],
   "source": [
    "Hfus = 333.6 #enthalpy of fusion (J/g)\n",
    "kc = 8.421702024856096 #convection coefficient between ice surface and air (W/m^2*K)\n",
    "\n",
    "#used a calculator to find kc, and there was a dependency on radius. \n",
    "#kc could be incorrect and the online calculator was factoring in the Area of the actual heat transfer eqn. \n",
    "\n",
    "Cp_ice = 2.2087 #average specific heat capacity of ice (J/g*K)\n",
    "\n",
    "rho = 916800 #density of water @ 0°C (g/m^3)\n",
    "eps = 0.975 #emissivity coefficient of water\n",
    "sig = 5.67e-8  # Stefan-Boltzmann W/m^2/K^4\n",
    "\n",
    "Rn = 0.01353 #radius of ice cube (m)\n",
    "Vn = (4/3)*pi*Rn**3\n",
    "Mn = 10.11 #initial mass of water (g)\n",
    "A = 4*pi*Rn**2\n",
    "\n",
    "#Radius and density does not match up with the mass and volume; some of these might be off. \n",
    "\n",
    "Tamb = 25 + 273.15 #ambient temperature (K)\n",
    "Tice = 0 + 273.15 #temperature of ice\n",
    "\n",
    "\n",
    "D = 2*Rn\n",
    "rho_air = 1.1 # air density in kg/m^3\n",
    "myu = 0.0000187 # air viscosity in N*s/m^2\n",
    "Tfilm = (Tamb + Tice)/2 # ambient temperature in °C\n",
    "beta = 1/Tfilm # fluid thermal expansion coefficient in K^-1\n",
    "k = 0.027 #thermal conductivity of air in J/s*m*K\n",
    "\n",
    "#f = open('T2 model results', 'a', newline='')    \n",
    "#writer = csv.writer(f, delimiter=',')\n",
    "#writer.writerow(['Time(s)', 'Mass(g)'])\n",
    "#writer.writerow([0, 14])\n",
    "\n",
    "tn = 305 #start time\n",
    "n = 0\n",
    "M = [Mn]\n",
    "m = []\n",
    "t = [tn]\n",
    "R = [Rn]\n",
    "h = [kc]\n",
    "\n",
    "Mw = 0.13\n",
    "M_w = [Mw]\n",
    "Q = []\n",
    "dt = 0.01 #time step (s) \n",
    "\n",
    "print('initial mass = ', Mn, 'g')\n",
    "\n",
    "while tn <= 5538:\n",
    "\n",
    "    dQr = eps*sig*A*(Tamb**4 - Tice**4)*dt #radiative heat transfer\n",
    "    dQc = kc*A*(Tamb-Tice)*dt #convective heat transfer\n",
    "    dQ = dQr + dQc\n",
    "\n",
    "    dM = dQ/Hfus #change in mass of the ice cube (mass of melted ice)\n",
    "    \n",
    "    Mn = Mn - dM #update mass and store value\n",
    "    Mw = Mw + dM #mass of collected water droplets\n",
    "    \n",
    "    dV = dM/rho #convert dM to dV using density of ice\n",
    "    Vn = Vn - dV #calculate new volume \n",
    "    \n",
    "    Rn = (3*Vn/(4*pi))**(1/3) #calculate the new radius from the new volume\n",
    "    A = 4*pi*(Rn)**2 #update area with new radius value\n",
    "    \n",
    "    # convection coefficient calculation/estimation \n",
    "    Gr = (((2*Rn)**3)*(rho_air**2)*9.81*(Tamb - Tice)*beta)/(myu**2)\n",
    "    Pr = 0.6925925925925926 \n",
    "    Ra = Gr*Pr\n",
    "    Nu = 2 + 0.43*Ra**0.25\n",
    "    kc = Nu*k/(2*Rn) # update coefficient of convection\n",
    "\n",
    "    tn = tn + dt\n",
    "    n = n + 1\n",
    "    \n",
    "    M.append(Mn)\n",
    "    m.append(dM)\n",
    "    t.append(tn)\n",
    "    Q.append(dQ)\n",
    "    R.append(Rn)\n",
    "    M_w.append(Mw)\n",
    "    h.append(kc)\n",
    "    if n % 100 == 0:  # plot only every 100th point to csv file \n",
    "        #writer.writerow([tn, Mn])\n",
    "        continue\n",
    "    else: \n",
    "        continue\n",
    "        \n",
    "    if Mn <= 0:\n",
    "        break\n",
    "    else:\n",
    "        continue\n",
    "       \n",
    "print('dQ = ', dQ, 'J')   \n",
    "print('A = ', A, 'm^2')\n",
    "print('Mn = ', Mn, 'g')\n",
    "print('dM = ', dM, 'g')\n",
    "print('Rn = ', Rn, 'm')\n",
    "print('sum of dM = ', sum(m), 'g')\n",
    "print('time = ', tn, 's')\n",
    "print('n = ', n)\n",
    "print('kc = ', kc, 'W/m^2*K')\n",
    "print(sum(m) + Mn)\n",
    "print('Ra = ', Ra)\n",
    "\n",
    "file = '10mL Sphere - Ladle.csv'\n",
    "data = genfromtxt(file, delimiter = ',')\n",
    "xdata = data[:,0]\n",
    "ydata = data[:,1]\n",
    "plt.figure\n",
    "plt.plot(xdata,ydata,\".\", label=\"data\")\n",
    "plt.xlabel(\"t(s)\")\n",
    "\n",
    "\n",
    "plt.figure\n",
    "plt.plot(t, M_w, label = \"model\")\n",
    "plt.xlabel(\"Time (s)\")\n",
    "plt.ylabel(\"Mass of ice cube (g)\")\n",
    "plt.legend()\n",
    "\n"
   ]
  }
 ],
 "metadata": {
  "kernelspec": {
   "display_name": "Python 3",
   "language": "python",
   "name": "python3"
  },
  "language_info": {
   "codemirror_mode": {
    "name": "ipython",
    "version": 3
   },
   "file_extension": ".py",
   "mimetype": "text/x-python",
   "name": "python",
   "nbconvert_exporter": "python",
   "pygments_lexer": "ipython3",
   "version": "3.7.6"
  }
 },
 "nbformat": 4,
 "nbformat_minor": 4
}
